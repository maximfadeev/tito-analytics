{
 "cells": [
  {
   "cell_type": "markdown",
   "metadata": {},
   "source": [
    "# Tito Analytics\n",
    "---"
   ]
  },
  {
   "cell_type": "markdown",
   "metadata": {},
   "source": [
    "### initialize script\n",
    "run this first always"
   ]
  },
  {
   "cell_type": "code",
   "execution_count": null,
   "metadata": {},
   "outputs": [],
   "source": [
    "%%capture\n",
    "from IPython.core.magic import register_line_magic\n",
    "\n",
    "@register_line_magic\n",
    "def pip(args):\n",
    "    \"\"\"Use pip from the current kernel\"\"\"\n",
    "    from pip import main\n",
    "    main(args.split())\n",
    "    \n",
    "%pip install pandas\n",
    "%pip install geopy\n",
    "%pip install openpyxl\n",
    "\n",
    "from geopy.geocoders import Nominatim\n",
    "import pandas as pd\n",
    "pd.set_option('display.max_rows', None)\n",
    "pd.set_option('display.max_columns', None)\n",
    "pd.set_option('display.width', 4000)\n",
    "import datetime\n",
    "geolocator = Nominatim(user_agent=\"TitoApp\")\n",
    "\n",
    "class analytics:\n",
    "    FILES = {        \n",
    "        \"EXCEL_FILE\": \"TitoDataProd.xlsx\",\n",
    "        \"USERS_MOBILE\": \"Users Mobile\",\n",
    "        \"USERS_SETTINGS\": \"mobile_settings.csv\",\n",
    "        \"POIS\": \"pois.csv\",\n",
    "        \"POI_PICTURES\": \"poi_pictures.csv\",\n",
    "        \"LIKES_TAB\": \"likes.csv\",\n",
    "        \"COMMENTS_TAB\" : \"comments.csv\"\n",
    "    }\n",
    "    \n",
    "    fields = {\n",
    "        \"total_current_users\": None,\n",
    "        \"total_MAU_users\": None,\n",
    "        \"pins_generated\": None,\n",
    "        \"objects_uploaded\": None,\n",
    "        \"pins_from_broadcasts\": None,\n",
    "        \"object_threes\": None,\n",
    "        \"notifications_on_total\": None,\n",
    "        \"notifications_on_MAU\": None,\n",
    "        \"location_never\": None,\n",
    "        \"precise_location_off\": None,\n",
    "        \"gallery_permissions_off\": None,\n",
    "        \"camera_permissions_off\": None,\n",
    "        \"one_time_users\": None,\n",
    "        \"new_weekly_users\": None,\n",
    "        \"users_nyc\": None,\n",
    "        \"users_nyc_mau\": None,\n",
    "    }\n",
    "    \n",
    "    date_of_sheet = None\n",
    "    MAU_date = None\n",
    "    WAU_date = None\n",
    "    df = None\n",
    "    users_mobile_df = None\n",
    "    users_settings_df = None\n",
    "    pois_df = None\n",
    "    pictures_df = None\n",
    "    current_df = None\n",
    "    likes_df = None\n",
    "    comments_df = None\n",
    "    \n",
    "    weights = {'post_weight':1, 'comment_weight':1/3, 'like_weight':1/9}\n",
    "    \n",
    "    def __init__(self, date):\n",
    "        self.init_dates(date)\n",
    "        self.open_files()\n",
    "        self.merge_dfs()\n",
    "        self.format_all_dates()\n",
    "        self.make_current_users_df()\n",
    "        self.fill_fields()\n",
    "        \n",
    "    def init_dates(self, date):\n",
    "        date_time_str = f'{date} 23:59:59'\n",
    "        self.date_of_sheet = datetime.datetime.strptime(date_time_str, '%d/%m/%y %H:%M:%S')\n",
    "        self.MAU_date = self.date_of_sheet - datetime.timedelta(28)\n",
    "        self.WAU_date = self.date_of_sheet - datetime.timedelta(7)\n",
    "        \n",
    "    def open_sheet(self, sheet_name):\n",
    "        return pd.read_excel(self.FILES[\"EXCEL_FILE\"], engine='openpyxl', sheet_name=sheet_name)\n",
    "        \n",
    "    def open_files(self):\n",
    "        self.users_mobile_df = self.open_sheet(self.FILES[\"USERS_MOBILE\"])\n",
    "        self.users_settings_df = self.open_sheet(self.FILES[\"USERS_SETTINGS\"])\n",
    "        self.pois_df = self.open_sheet(self.FILES[\"POIS\"])\n",
    "        self.pictures_df = self.open_sheet(self.FILES[\"POI_PICTURES\"])\n",
    "        self.likes_df = self.open_sheet(self.FILES[\"LIKES_TAB\"])\n",
    "        self.comments_df = self.open_sheet(self.FILES[\"COMMENTS_TAB\"])\n",
    "\n",
    "        \n",
    "    def merge_dfs(self):\n",
    "        self.df = pd.merge(self.users_mobile_df, self.users_settings_df.drop(['id', 'created_at', 'updated_at']\n",
    "                            , axis=1),left_on='id', right_on='user_id', how='left').drop('user_id', axis=1)\n",
    "      \n",
    "    def format_date(self, data_frame, column):\n",
    "        data_frame[column] = pd.to_datetime(data_frame[column], errors='coerce')\n",
    "    \n",
    "    def format_all_dates(self):\n",
    "        self.format_date(self.df, 'last_activity_timestamp')\n",
    "        self.format_date(self.df, 'created_at')\n",
    "        self.format_date(self.pois_df, 'created_at')\n",
    "        self.format_date(self.pictures_df, 'created_at')\n",
    "        self.format_date(self.likes_df, 'created_at')\n",
    "        self.format_date(self.comments_df, 'created_at')\n",
    "        \n",
    "    def make_current_users_df(self):\n",
    "        self.df_current = self.df[self.df['mobile_version'] \\\n",
    "                                  .str.match(\"^[1-9][0-9]*\\.\\d+\\.\\d+ \\(\\d+\\)|0.1.0 \\(65\\)\") == True]\n",
    "        \n",
    "    def fill_fields(self):\n",
    "        self.fields['total_current_users'] = self.df_current.shape[0]\n",
    "        \n",
    "        t = self.pois_df.apply(lambda x: True if x['created_at'] > self.WAU_date else False, axis=1)\n",
    "        self.fields['pins_generated'] = len(t[t].index)\n",
    "\n",
    "        t = self.pois_df.apply(lambda x: True if x['created_at'] > self.WAU_date \n",
    "                               and x['accredited_user_id'] > 0 else False, axis=1)\n",
    "        self.fields['pins_from_broadcasts'] = len(t[t].index)\n",
    "\n",
    "        t = self.pictures_df.apply(lambda x: True if x['created_at'] > self.WAU_date else False, axis=1)\n",
    "        self.fields['objects_uploaded'] = len(t[t].index)\n",
    "\n",
    "        t = self.pictures_df.apply(lambda x: True if x['created_at'] > self.WAU_date \n",
    "                                   and x['great_count'] > 0 else False, axis=1)\n",
    "        self.fields['object_threes'] = len(t[t].index)\n",
    "\n",
    "        t = self.df_current.apply(lambda x: True if x['notification_permissions'] == 'allowed' else False, axis=1)\n",
    "        self.fields['notifications_on_total'] = len(t[t].index)\n",
    "\n",
    "        t = self.df_current.apply(lambda x: True if x['last_activity_timestamp'] > self.MAU_date else False, axis=1)\n",
    "        self.fields['total_MAU_users'] = len(t[t].index)\n",
    "\n",
    "        t = self.df_current.apply(lambda x: True if x['notification_permissions'] == 'allowed' \n",
    "                                  and x['last_activity_timestamp'] > self.MAU_date else False, axis=1)\n",
    "        self.fields['notifications_on_MAU'] = len(t[t].index)\n",
    "\n",
    "        t = self.df_current.apply(lambda x: True if x['location_permissions'] == 'never' else False, axis=1)\n",
    "        self.fields['location_never'] = len(t[t].index)\n",
    "\n",
    "        t = self.df_current.apply(lambda x: True if x['precise_location'] == 'OFF' else False, axis=1)\n",
    "        self.fields['precise_location_off'] = len(t[t].index)\n",
    "\n",
    "        t = self.df_current.apply(lambda x: True if x['gallery_permissions'] == 'never' \n",
    "                                  or x['gallery_permissions'] == 'not-allowed' \n",
    "                                  or x['gallery_permissions'] == 'Limited' else False, axis=1)\n",
    "        self.fields['gallery_permissions_off'] = len(t[t].index)\n",
    "\n",
    "        t = self.df_current.apply(lambda x: True if x['camera_permissions'] == 'never' \n",
    "                                  or x['camera_permissions'] == 'not-allowed' else False, axis=1)\n",
    "        self.fields['camera_permissions_off'] = len(t[t].index)\n",
    "\n",
    "        t = self.df_current.apply(lambda x: True if pd.isnull(x['notification_permissions']) \n",
    "                                  and pd.isnull(x['location_permissions']) \n",
    "                                  and pd.isnull(x['gallery_permissions']) and pd.isnull(x['camera_permissions']) \n",
    "                                  and pd.isnull(x['microphone_permissions']) else False, axis=1)\n",
    "        self.fields['one_time_users'] = len(t[t].index)\n",
    "        \n",
    "        t = self.df.apply(lambda x: True if x['created_at'] > self.WAU_date else False, axis=1)\n",
    "        self.fields['new_weekly_users'] = len(t[t].index)\n",
    "        \n",
    "    def print_analytics(self):\n",
    "        total_current_users = self.fields['total_current_users']\n",
    "        total_MAU_users = self.fields['total_MAU_users']\n",
    "        pins_generated = self.fields['pins_generated']\n",
    "        objects_uploaded = self.fields['objects_uploaded']\n",
    "        pins_from_broadcasts = self.fields['pins_from_broadcasts']\n",
    "        object_threes = self.fields['object_threes']\n",
    "        notifications_on_total = self.fields['notifications_on_total']\n",
    "        notifications_on_MAU = self.fields['notifications_on_MAU']\n",
    "        location_never = self.fields['location_never']\n",
    "        precise_location_off = self.fields['precise_location_off']\n",
    "        gallery_permissions_off = self.fields['gallery_permissions_off']\n",
    "        camera_permissions_off = self.fields['camera_permissions_off']\n",
    "        one_time_users = self.fields['one_time_users']\n",
    "        new_weekly_users = self.fields['new_weekly_users']\n",
    "\n",
    "        \n",
    "        print(f\"# Total Users: {total_current_users}\")\n",
    "        print(f\"# Total MAU Users: {total_MAU_users}\")\n",
    "        print(f\"# PINs Generated (All): {pins_generated}\")\n",
    "        print(f\"# Objects Uploaded: {objects_uploaded}\")\n",
    "        print(f\"# PINs from Broadcasts: {pins_from_broadcasts}\")\n",
    "        print(f\"# Objects 3s (make the feed): {object_threes}\")\n",
    "        print(f\"# Notifications On: {notifications_on_total}\")\n",
    "        print(f\"% Notifications On: {round(notifications_on_total/total_current_users*100, 1)}%\")\n",
    "        print(f\"# Notifications On (MAU): {notifications_on_MAU}\")\n",
    "        print(f\"% Notifications On (MAU): {round(notifications_on_MAU/total_MAU_users*100,1)}%\")\n",
    "        print(f\"# Location: Never: {location_never}\")\n",
    "        print(f\"% Location: Never: {round(location_never/total_current_users*100, 1)}%\")\n",
    "        print(f\"# Precise Location Off: {precise_location_off}\")\n",
    "        print(f\"% Precise Location Off: {round(precise_location_off/total_current_users*100, 1)}%\")\n",
    "        print(f\"# Photos: Limited, Never or Not Allowed: {gallery_permissions_off}\")\n",
    "        print(f\"% Photos: Limited, Never or Not Allowed: {round(gallery_permissions_off/total_current_users*100, 1)}%\")\n",
    "        print(f\"# Camera: Never or Not Allowed: {camera_permissions_off}\")\n",
    "        print(f\"% Camera: Never or Not Allowed: {round(camera_permissions_off/total_current_users*100, 1)}%\")\n",
    "        print(f\"# Mobile Settings Unavailable (one-time users): {one_time_users}\")\n",
    "        print(f\"% Mobile Settings Unavailable (one-time users): {round(one_time_users/total_current_users*100, 1)}%\")\n",
    "        print(f\"# New Weekly Users: {new_weekly_users}\")\n",
    "\n",
    "        \n",
    "    def get_location_data(self):\n",
    "        self.df_current['postcode'] = self.df_current.apply(lambda x: self.get_zip(x), axis=1)\n",
    "\n",
    "        t = self.df_current.apply(lambda x: True if x['postcode'] is not None else False, axis=1)\n",
    "        users_nyc = len(t[t].index)\n",
    "\n",
    "        t = self.df_current.apply(lambda x: True if x['postcode'] is not None \n",
    "                                  and x['last_activity_timestamp'] > self.MAU_date else False, axis=1)\n",
    "        users_nyc_mau = len(t[t].index)\n",
    "\n",
    "        print(f\"# Total NYC users: {users_nyc}\")\n",
    "        print(f\"# MAU NYC users: {users_nyc_mau}\")\n",
    "        \n",
    "    def print_zip(self):\n",
    "        print(\"Users per zipcode:\")\n",
    "        with pd.option_context('display.max_rows', None, 'display.max_columns', None): \n",
    "            print(self.df_current['postcode'].value_counts())\n",
    "        \n",
    "        \n",
    "    def get_zip(self, x):\n",
    "        if x['last_lat'] != 0 and not pd.isnull(x['last_lat']) and x['last_lng'] != 0 and not pd.isnull(x['last_lng']):\n",
    "            last_location = f\"{x['last_lat']}, {x['last_lng']}\"\n",
    "        else:\n",
    "            last_location = f\"{x['lat']}, {x['lng']}\"\n",
    "        try:\n",
    "            loc = geolocator.reverse(last_location)\n",
    "            if loc.raw['address']['city'] == 'New York':\n",
    "                return loc.raw['address']['postcode']\n",
    "        except:\n",
    "            return None\n",
    "        \n",
    "    def get_city(self, x):\n",
    "        if x['last_lat'] != 0 and not pd.isnull(x['last_lat']) and x['last_lng'] != 0 and not pd.isnull(x['last_lng']):\n",
    "            last_location = f\"{x['last_lat']}, {x['last_lng']}\"\n",
    "        else:\n",
    "            last_location = f\"{x['lat']}, {x['lng']}\"\n",
    "        try:\n",
    "            loc = geolocator.reverse(last_location)\n",
    "            return loc.raw['address']['city']\n",
    "\n",
    "        except:\n",
    "            return None\n",
    "        \n",
    "    def get_rem(self):\n",
    "        self.df['city'] = self.df.apply(lambda x: self.get_city(x), axis=1)\n",
    "        self.df['days_since_activity'] = self.df.dropna(subset=['last_activity_timestamp']).apply(lambda row: round((self.date_of_sheet - row['last_activity_timestamp']) / datetime.timedelta(days=1)), axis=1)\n",
    "        self.df[['id', 'username', 'email', 'days_since_activity', 'notification_permissions', 'location_permissions', 'city']].set_index('id').to_excel(\"rem_data.xlsx\")  \n",
    "    \n",
    "    def score_calculator(self, row):\n",
    "        return round(row['posts_count'] * self.weights['post_weight'] + row['comments_count'] * self.weights['comment_weight'] + row['likes_count'] * self.weights['like_weight'], 1)\n",
    "    \n",
    "    def get_user_stats(self):\n",
    "        self.generate_time_stats(name=\"All Time Ratings\")\n",
    "        self.generate_time_stats(date=self.MAU_date, name=\"Monthly Ratings\")\n",
    "        self.generate_time_stats(date=self.WAU_date, name=\"Weekly Ratings\")\n",
    "    \n",
    "    def generate_time_stats(self, name, date=None):\n",
    "        if date:\n",
    "            pictures_df = self.pictures_df[self.pictures_df['created_at'] > date]\n",
    "            likes_df = self.likes_df[self.likes_df['created_at'] > date]\n",
    "            comments_df = self.comments_df[self.comments_df['created_at'] > date]\n",
    "        else:\n",
    "            pictures_df = self.pictures_df\n",
    "            likes_df = self.likes_df\n",
    "            comments_df = self.comments_df\n",
    "            \n",
    "        picture_counts = pictures_df['user_id'].value_counts().reset_index().rename(columns={'index': 'user_id', 'user_id':'posts_count',0: 'count'})\n",
    "        like_counts = likes_df['user_id'].value_counts().reset_index().rename(columns={'index': 'user_id', 'user_id':'likes_count',0: 'count'})\n",
    "        comment_counts = comments_df['user_id'].value_counts().reset_index().rename(columns={'index': 'user_id', 'user_id':'comments_count',0: 'count'})\n",
    "\n",
    "        df_stats = pd.merge(self.users_mobile_df, picture_counts, left_on='id', right_on='user_id', how='left').drop('user_id', axis=1)\n",
    "        df_stats = pd.merge(df_stats, like_counts, left_on='id', right_on='user_id', how='left').drop('user_id', axis=1)\n",
    "        df_stats = pd.merge(df_stats, comment_counts, left_on='id', right_on='user_id', how='left').drop('user_id', axis=1)\n",
    "\n",
    "        df_stats['posts_count'] = df_stats['posts_count'].fillna(0)\n",
    "        df_stats['likes_count'] = df_stats['likes_count'].fillna(0)\n",
    "        df_stats['comments_count'] = df_stats['comments_count'].fillna(0)\n",
    "\n",
    "        df_stats['score'] = df_stats.apply(lambda row: self.score_calculator(row), axis=1)\n",
    "        df_stats = df_stats[['id', 'email', 'username', 'first_name', 'last_name','posts_count','likes_count','comments_count','score']].sort_values(by=[\"score\"], ascending=False)\n",
    "        df_stats = df_stats.set_index('id')\n",
    "        \n",
    "        try:\n",
    "            with pd.ExcelWriter('user_stats.xlsx', mode='a') as writer:\n",
    "                df_stats.to_excel(writer,sheet_name=name)\n",
    "        except FileNotFoundError:\n",
    "            with pd.ExcelWriter('user_stats.xlsx') as writer:\n",
    "                df_stats.to_excel(writer,sheet_name=name)\n",
    "        "
   ]
  },
  {
   "cell_type": "markdown",
   "metadata": {},
   "source": [
    "### initialize analytics with date of sheet\n",
    "always run this cell"
   ]
  },
  {
   "cell_type": "code",
   "execution_count": null,
   "metadata": {},
   "outputs": [],
   "source": [
    "a = analytics(\"28/01/21\")"
   ]
  },
  {
   "cell_type": "markdown",
   "metadata": {},
   "source": [
    "---\n",
    "---\n",
    "---"
   ]
  },
  {
   "cell_type": "markdown",
   "metadata": {},
   "source": [
    "# Analytics"
   ]
  },
  {
   "cell_type": "markdown",
   "metadata": {},
   "source": [
    "### print analytics"
   ]
  },
  {
   "cell_type": "code",
   "execution_count": null,
   "metadata": {},
   "outputs": [],
   "source": [
    "a.print_analytics()"
   ]
  },
  {
   "cell_type": "markdown",
   "metadata": {},
   "source": [
    "---"
   ]
  },
  {
   "cell_type": "markdown",
   "metadata": {},
   "source": [
    "# Location"
   ]
  },
  {
   "cell_type": "markdown",
   "metadata": {},
   "source": [
    "### get location data\n",
    "takes some time to retrieve data"
   ]
  },
  {
   "cell_type": "code",
   "execution_count": null,
   "metadata": {},
   "outputs": [],
   "source": [
    "a.get_location_data()"
   ]
  },
  {
   "cell_type": "markdown",
   "metadata": {},
   "source": [
    "### get zip data\n",
    "run this only after running above cell (get_location_data())"
   ]
  },
  {
   "cell_type": "code",
   "execution_count": null,
   "metadata": {},
   "outputs": [],
   "source": [
    "a.print_zip()"
   ]
  },
  {
   "cell_type": "markdown",
   "metadata": {},
   "source": [
    "---"
   ]
  },
  {
   "cell_type": "markdown",
   "metadata": {},
   "source": [
    "# Generate Sheets"
   ]
  },
  {
   "cell_type": "markdown",
   "metadata": {},
   "source": [
    "### get REM sheet\n",
    "Takes some time to retrieve location data.<br />\n",
    "Will output an excel sheet named \"rem_data.xlsx\" in the outer directory."
   ]
  },
  {
   "cell_type": "code",
   "execution_count": null,
   "metadata": {
    "scrolled": false
   },
   "outputs": [],
   "source": [
    "a.get_rem()"
   ]
  },
  {
   "cell_type": "markdown",
   "metadata": {},
   "source": [
    "### get user statistics sheet\n",
    "Will output an excel sheet named \"user_stats.xlsx\" in the outer directory. <br />\n",
    "The way the score is calculated is: __score = post_count * post_weight + comment_count * comment_weight + like_count * like_weight__\n"
   ]
  },
  {
   "cell_type": "code",
   "execution_count": null,
   "metadata": {},
   "outputs": [],
   "source": [
    "a.weights = {\n",
    "    'post_weight': 1\n",
    "    , \n",
    "    'comment_weight': 1/3\n",
    "    , \n",
    "    'like_weight': 1/9\n",
    "}\n",
    "a.get_user_stats()"
   ]
  },
  {
   "cell_type": "code",
   "execution_count": null,
   "metadata": {},
   "outputs": [],
   "source": []
  }
 ],
 "metadata": {
  "kernelspec": {
   "display_name": "Python 3",
   "language": "python",
   "name": "python3"
  },
  "language_info": {
   "codemirror_mode": {
    "name": "ipython",
    "version": 3
   },
   "file_extension": ".py",
   "mimetype": "text/x-python",
   "name": "python",
   "nbconvert_exporter": "python",
   "pygments_lexer": "ipython3",
   "version": "3.8.5"
  }
 },
 "nbformat": 4,
 "nbformat_minor": 4
}
